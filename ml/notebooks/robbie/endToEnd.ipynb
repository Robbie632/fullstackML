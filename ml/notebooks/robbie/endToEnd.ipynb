{
 "cells": [
  {
   "cell_type": "code",
   "execution_count": 1,
   "metadata": {},
   "outputs": [],
   "source": [
    "import pandas as pd\n",
    "from sklearn.ensemble import RandomForestClassifier\n",
    "import numpy as np\n"
   ]
  },
  {
   "cell_type": "code",
   "execution_count": null,
   "metadata": {},
   "outputs": [],
   "source": [
    "def encode_cabin(row):\n",
    "    if row[\"Cabin\"] == None:\n",
    "        return 0\n",
    "    else:\n",
    "        return 'abcdefghijklmnopqrstuvwxyz'.index(str(row[\"Cabin\"])[0].lower())\n",
    "\n",
    "\n",
    "def extract_cabin_number(row):\n",
    "    num = ''\n",
    "    \n",
    "    for i in str(row[\"Cabin\"]):\n",
    "        if i.isnumeric():\n",
    "            num += i\n",
    "            \n",
    "    if num == '':\n",
    "        return 0\n",
    "            \n",
    "    return int(num)\n",
    "    \n",
    "\n",
    "def encode_title(row):\n",
    "    if \"master\" in row[\"Name\"].lower():\n",
    "        return 1\n",
    "    elif \"mr.\" in row[\"Name\"].lower():\n",
    "        return 2\n",
    "    elif \"mrs.\" in row[\"Name\"].lower():\n",
    "        return 3\n",
    "    elif \"miss.\" in row[\"Name\"].lower():\n",
    "        return 3\n",
    "    else:\n",
    "        return 0\n",
    "\n",
    "\n",
    "\n",
    "def train(data, encode_cabin, extract_cabin_number, encode_title):\n",
    "    \n",
    "    '''\n",
    "    function for training random forest classifier model\n",
    "    \n",
    "    data: features and label of train data\n",
    "    '''\n",
    "    \n",
    "    data[\"Age\"].fillna(value=data[\"Age\"].mean(), inplace=True)\n",
    "    data[\"sex_encoded\"] = data.apply(lambda r: 0 if r[\"Sex\"] == 'male' else 1, axis=1)\n",
    "    data[\"Embarked\"].fillna(value='S', inplace=True)\n",
    "    data[\"embarked_encoded\"] = data.apply(lambda r: 'SCQ'.index(r[\"Embarked\"]), axis=1)\n",
    "    data[\"title_encoded\"] = data.apply(encode_title, axis=1)\n",
    "    data[\"cabin_letter\"] = data.apply(encode_cabin, axis=1)\n",
    "    data[\"cabin_number\"] = data.apply(extract_cabin_number, axis=1)\n",
    "    \n",
    "    \n",
    "    del data['Name']\n",
    "    del data['Ticket']\n",
    "    del data['Sex']\n",
    "    del data['PassengerId']\n",
    "    del data['Cabin']\n",
    "    del data['Embarked']\n",
    "    \n",
    "    label = data['Survived']\n",
    "    del data['Survived']\n",
    "    train = data.copy()\n",
    "    \n",
    "    model = RandomForestClassifier(n_estimators=10, random_state=42)\n",
    "    \n",
    "    model.fit(np.array(train), np.array(label))\n",
    "    \n",
    "    return(model)\n",
    "\n",
    "def predict(data, model):\n",
    "    \n",
    "        '''\n",
    "    function for training random forest classifier model\n",
    "    data:data to be predicted from only containing features\n",
    "    trained: fitted sklearn model\n",
    "    '''\n",
    "    \n",
    "    data[\"Age\"].fillna(value=data[\"Age\"].mean(), inplace=True)\n",
    "    data[\"sex_encoded\"] = data.apply(lambda r: 0 if r[\"Sex\"] == 'male' else 1, axis=1)\n",
    "    data[\"Embarked\"].fillna(value='S', inplace=True)\n",
    "    data[\"embarked_encoded\"] = data.apply(lambda r: 'SCQ'.index(r[\"Embarked\"]), axis=1)\n",
    "    data[\"title_encoded\"] = data.apply(encode_title, axis=1)\n",
    "    data[\"cabin_letter\"] = data.apply(encode_cabin, axis=1)\n",
    "    data[\"cabin_number\"] = data.apply(extract_cabin_number, axis=1)\n",
    "    \n",
    "    \n",
    "    del data['Name']\n",
    "    del data['Ticket']\n",
    "    del data['Sex']\n",
    "    del data['PassengerId']\n",
    "    del data['Cabin']\n",
    "    del data['Embarked']\n",
    "    \n",
    "    \n",
    "    predictions = model.predict(np.array(data))\n",
    "    \n",
    "    return(predictions)\n",
    "    "
   ]
  },
  {
   "cell_type": "code",
   "execution_count": 30,
   "metadata": {},
   "outputs": [],
   "source": [
    "data = pd.read_csv('../../data/train.csv')"
   ]
  },
  {
   "cell_type": "code",
   "execution_count": 31,
   "metadata": {},
   "outputs": [
    {
     "data": {
      "text/plain": [
       "(891, 12)"
      ]
     },
     "execution_count": 31,
     "metadata": {},
     "output_type": "execute_result"
    }
   ],
   "source": [
    "data.shape"
   ]
  },
  {
   "cell_type": "code",
   "execution_count": 32,
   "metadata": {},
   "outputs": [
    {
     "data": {
      "text/html": [
       "<div>\n",
       "<style scoped>\n",
       "    .dataframe tbody tr th:only-of-type {\n",
       "        vertical-align: middle;\n",
       "    }\n",
       "\n",
       "    .dataframe tbody tr th {\n",
       "        vertical-align: top;\n",
       "    }\n",
       "\n",
       "    .dataframe thead th {\n",
       "        text-align: right;\n",
       "    }\n",
       "</style>\n",
       "<table border=\"1\" class=\"dataframe\">\n",
       "  <thead>\n",
       "    <tr style=\"text-align: right;\">\n",
       "      <th></th>\n",
       "      <th>PassengerId</th>\n",
       "      <th>Survived</th>\n",
       "      <th>Pclass</th>\n",
       "      <th>Name</th>\n",
       "      <th>Sex</th>\n",
       "      <th>Age</th>\n",
       "      <th>SibSp</th>\n",
       "      <th>Parch</th>\n",
       "      <th>Ticket</th>\n",
       "      <th>Fare</th>\n",
       "      <th>Cabin</th>\n",
       "      <th>Embarked</th>\n",
       "    </tr>\n",
       "  </thead>\n",
       "  <tbody>\n",
       "    <tr>\n",
       "      <td>0</td>\n",
       "      <td>1</td>\n",
       "      <td>0</td>\n",
       "      <td>3</td>\n",
       "      <td>Braund, Mr. Owen Harris</td>\n",
       "      <td>male</td>\n",
       "      <td>22.0</td>\n",
       "      <td>1</td>\n",
       "      <td>0</td>\n",
       "      <td>A/5 21171</td>\n",
       "      <td>7.2500</td>\n",
       "      <td>NaN</td>\n",
       "      <td>S</td>\n",
       "    </tr>\n",
       "    <tr>\n",
       "      <td>1</td>\n",
       "      <td>2</td>\n",
       "      <td>1</td>\n",
       "      <td>1</td>\n",
       "      <td>Cumings, Mrs. John Bradley (Florence Briggs Th...</td>\n",
       "      <td>female</td>\n",
       "      <td>38.0</td>\n",
       "      <td>1</td>\n",
       "      <td>0</td>\n",
       "      <td>PC 17599</td>\n",
       "      <td>71.2833</td>\n",
       "      <td>C85</td>\n",
       "      <td>C</td>\n",
       "    </tr>\n",
       "    <tr>\n",
       "      <td>2</td>\n",
       "      <td>3</td>\n",
       "      <td>1</td>\n",
       "      <td>3</td>\n",
       "      <td>Heikkinen, Miss. Laina</td>\n",
       "      <td>female</td>\n",
       "      <td>26.0</td>\n",
       "      <td>0</td>\n",
       "      <td>0</td>\n",
       "      <td>STON/O2. 3101282</td>\n",
       "      <td>7.9250</td>\n",
       "      <td>NaN</td>\n",
       "      <td>S</td>\n",
       "    </tr>\n",
       "    <tr>\n",
       "      <td>3</td>\n",
       "      <td>4</td>\n",
       "      <td>1</td>\n",
       "      <td>1</td>\n",
       "      <td>Futrelle, Mrs. Jacques Heath (Lily May Peel)</td>\n",
       "      <td>female</td>\n",
       "      <td>35.0</td>\n",
       "      <td>1</td>\n",
       "      <td>0</td>\n",
       "      <td>113803</td>\n",
       "      <td>53.1000</td>\n",
       "      <td>C123</td>\n",
       "      <td>S</td>\n",
       "    </tr>\n",
       "    <tr>\n",
       "      <td>4</td>\n",
       "      <td>5</td>\n",
       "      <td>0</td>\n",
       "      <td>3</td>\n",
       "      <td>Allen, Mr. William Henry</td>\n",
       "      <td>male</td>\n",
       "      <td>35.0</td>\n",
       "      <td>0</td>\n",
       "      <td>0</td>\n",
       "      <td>373450</td>\n",
       "      <td>8.0500</td>\n",
       "      <td>NaN</td>\n",
       "      <td>S</td>\n",
       "    </tr>\n",
       "  </tbody>\n",
       "</table>\n",
       "</div>"
      ],
      "text/plain": [
       "   PassengerId  Survived  Pclass  \\\n",
       "0            1         0       3   \n",
       "1            2         1       1   \n",
       "2            3         1       3   \n",
       "3            4         1       1   \n",
       "4            5         0       3   \n",
       "\n",
       "                                                Name     Sex   Age  SibSp  \\\n",
       "0                            Braund, Mr. Owen Harris    male  22.0      1   \n",
       "1  Cumings, Mrs. John Bradley (Florence Briggs Th...  female  38.0      1   \n",
       "2                             Heikkinen, Miss. Laina  female  26.0      0   \n",
       "3       Futrelle, Mrs. Jacques Heath (Lily May Peel)  female  35.0      1   \n",
       "4                           Allen, Mr. William Henry    male  35.0      0   \n",
       "\n",
       "   Parch            Ticket     Fare Cabin Embarked  \n",
       "0      0         A/5 21171   7.2500   NaN        S  \n",
       "1      0          PC 17599  71.2833   C85        C  \n",
       "2      0  STON/O2. 3101282   7.9250   NaN        S  \n",
       "3      0            113803  53.1000  C123        S  \n",
       "4      0            373450   8.0500   NaN        S  "
      ]
     },
     "execution_count": 32,
     "metadata": {},
     "output_type": "execute_result"
    }
   ],
   "source": [
    "data.head()"
   ]
  },
  {
   "cell_type": "markdown",
   "metadata": {},
   "source": [
    "# Feature Exploration + Feature Engineering"
   ]
  },
  {
   "cell_type": "code",
   "execution_count": 33,
   "metadata": {},
   "outputs": [],
   "source": [
    "data[\"Age\"].fillna(value=data[\"Age\"].mean(), inplace=True)"
   ]
  },
  {
   "cell_type": "code",
   "execution_count": 34,
   "metadata": {},
   "outputs": [],
   "source": [
    "data[\"sex_encoded\"] = data.apply(lambda r: 0 if r[\"Sex\"] == 'male' else 1, axis=1)"
   ]
  },
  {
   "cell_type": "code",
   "execution_count": 35,
   "metadata": {},
   "outputs": [],
   "source": [
    "data[\"Embarked\"].fillna(value='S', inplace=True)"
   ]
  },
  {
   "cell_type": "code",
   "execution_count": 36,
   "metadata": {},
   "outputs": [],
   "source": [
    "data[\"embarked_encoded\"] = data.apply(lambda r: 'SCQ'.index(r[\"Embarked\"]), axis=1)"
   ]
  },
  {
   "cell_type": "code",
   "execution_count": 37,
   "metadata": {},
   "outputs": [],
   "source": [
    "def encode_cabin(row):\n",
    "    if row[\"Cabin\"] == None:\n",
    "        return 0\n",
    "    else:\n",
    "        return 'abcdefghijklmnopqrstuvwxyz'.index(str(row[\"Cabin\"])[0].lower())\n",
    "\n",
    "data[\"cabin_letter\"] = data.apply(encode_cabin, axis=1)"
   ]
  },
  {
   "cell_type": "code",
   "execution_count": 38,
   "metadata": {},
   "outputs": [],
   "source": [
    "def extract_cabin_number(row):\n",
    "    num = ''\n",
    "    \n",
    "    for i in str(row[\"Cabin\"]):\n",
    "        if i.isnumeric():\n",
    "            num += i\n",
    "            \n",
    "    if num == '':\n",
    "        return 0\n",
    "            \n",
    "    return int(num)\n",
    "    \n",
    "data[\"cabin_number\"] = data.apply(extract_cabin_number, axis=1)"
   ]
  },
  {
   "cell_type": "code",
   "execution_count": 39,
   "metadata": {},
   "outputs": [],
   "source": [
    "def encode_title(row):\n",
    "    if \"master\" in row[\"Name\"].lower():\n",
    "        return 1\n",
    "    elif \"mr.\" in row[\"Name\"].lower():\n",
    "        return 2\n",
    "    elif \"mrs.\" in row[\"Name\"].lower():\n",
    "        return 3\n",
    "    elif \"miss.\" in row[\"Name\"].lower():\n",
    "        return 3\n",
    "    else:\n",
    "        return 0\n",
    "\n",
    "data[\"title_encoded\"] = data.apply(encode_title, axis=1)\n",
    "# del data['Name']\n",
    "# del data['Ticket']\n",
    "# del data['Sex']\n",
    "# del data['PassengerId']\n",
    "# del data['Cabin']\n",
    "# del data['Embarked']"
   ]
  },
  {
   "cell_type": "code",
   "execution_count": 13,
   "metadata": {},
   "outputs": [],
   "source": [
    "label = data['Survived']\n",
    "del data['Survived']\n",
    "train = data.copy()"
   ]
  },
  {
   "cell_type": "code",
   "execution_count": 14,
   "metadata": {},
   "outputs": [],
   "source": [
    "model = RandomForestClassifier(n_estimators=10, random_state=42)"
   ]
  },
  {
   "cell_type": "code",
   "execution_count": 15,
   "metadata": {},
   "outputs": [
    {
     "data": {
      "text/plain": [
       "RandomForestClassifier(bootstrap=True, class_weight=None, criterion='gini',\n",
       "            max_depth=None, max_features='auto', max_leaf_nodes=None,\n",
       "            min_impurity_decrease=0.0, min_impurity_split=None,\n",
       "            min_samples_leaf=1, min_samples_split=2,\n",
       "            min_weight_fraction_leaf=0.0, n_estimators=10, n_jobs=None,\n",
       "            oob_score=False, random_state=42, verbose=0, warm_start=False)"
      ]
     },
     "execution_count": 15,
     "metadata": {},
     "output_type": "execute_result"
    }
   ],
   "source": [
    "model.fit(np.array(train), np.array(label))"
   ]
  },
  {
   "cell_type": "code",
   "execution_count": 16,
   "metadata": {},
   "outputs": [],
   "source": [
    "preds = model.predict(np.array(train))"
   ]
  },
  {
   "cell_type": "code",
   "execution_count": 17,
   "metadata": {},
   "outputs": [],
   "source": [
    "from sklearn.metrics import f1_score\n"
   ]
  },
  {
   "cell_type": "markdown",
   "metadata": {},
   "source": [
    "it works"
   ]
  },
  {
   "cell_type": "code",
   "execution_count": 18,
   "metadata": {},
   "outputs": [
    {
     "data": {
      "text/plain": [
       "0.9662261380323055"
      ]
     },
     "execution_count": 18,
     "metadata": {},
     "output_type": "execute_result"
    }
   ],
   "source": [
    "f1_score(label, preds)"
   ]
  },
  {
   "cell_type": "code",
   "execution_count": null,
   "metadata": {},
   "outputs": [],
   "source": [
    "train function\n",
    "predict function"
   ]
  }
 ],
 "metadata": {
  "kernelspec": {
   "display_name": "Python 3",
   "language": "python",
   "name": "python3"
  },
  "language_info": {
   "codemirror_mode": {
    "name": "ipython",
    "version": 3
   },
   "file_extension": ".py",
   "mimetype": "text/x-python",
   "name": "python",
   "nbconvert_exporter": "python",
   "pygments_lexer": "ipython3",
   "version": "3.7.1"
  }
 },
 "nbformat": 4,
 "nbformat_minor": 2
}
